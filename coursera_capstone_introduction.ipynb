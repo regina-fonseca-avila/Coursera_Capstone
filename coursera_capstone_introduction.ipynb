{
    "cells": [
        {
            "cell_type": "markdown",
            "metadata": {
                "colab_type": "text",
                "id": "mJzgVGPxM4DJ"
            },
            "source": "# Capstone Project\n\n#### Applied Data Science Capstone by IBM/Coursera\n\n# Location for a burger joint\n\n## 1. Introduction/Business Problem\n\nFind a good location to start a business is a challenge problem. \nA young man wants start his first business. He makes very tasty hamburgers and decided to open a burger joint. He lives between two universities and thinks that locations where there are many students are good to sell hamburgers because students like it. He wants to know what is the best location to open his business, that is, near what university and in what region near the university.\n\nIn this project we will help this young choose a location to sell hamburgers in Campinas, State of S\u00e3o Paulo, Brazil. We will take into the number of burger joints that already exist in the neighborhood of universities, if necessary we will include other categories of restaurants to improve our analysis. We will use Foursquare api to find them.\n\nWe will make Exploratory Data Analysis and use a clustering algorithm to  detect locations that are not already crowded with burger joints and \nwe will choose a locations as close to university as possible."
        }
    ],
    "metadata": {
        "colab": {
            "name": "coursera_capstone_introduction.ipynb",
            "provenance": []
        },
        "kernelspec": {
            "display_name": "Python 3.6",
            "language": "python",
            "name": "python3"
        },
        "language_info": {
            "codemirror_mode": {
                "name": "ipython",
                "version": 3
            },
            "file_extension": ".py",
            "mimetype": "text/x-python",
            "name": "python",
            "nbconvert_exporter": "python",
            "pygments_lexer": "ipython3",
            "version": "3.6.9"
        }
    },
    "nbformat": 4,
    "nbformat_minor": 1
}